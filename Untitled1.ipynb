{
 "cells": [
  {
   "cell_type": "code",
   "execution_count": 2,
   "metadata": {},
   "outputs": [],
   "source": [
    "import torch\n",
    "import torch.nn as nn\n",
    "from torch.utils.data import DataLoader\n",
    "from torchvision.transforms import transforms"
   ]
  },
  {
   "cell_type": "code",
   "execution_count": 3,
   "metadata": {
    "collapsed": true
   },
   "outputs": [],
   "source": [
    "import sys, os\n",
    "import glob\n",
    "sys.path.append(\"./midi_utils/\")\n",
    "sys.path.append(\"../\")"
   ]
  },
  {
   "cell_type": "code",
   "execution_count": 4,
   "metadata": {
    "collapsed": true
   },
   "outputs": [],
   "source": [
    "import midi_dataset"
   ]
  },
  {
   "cell_type": "code",
   "execution_count": 5,
   "metadata": {
    "collapsed": true
   },
   "outputs": [],
   "source": [
    "import midi_io\n",
    "import midi_transform"
   ]
  },
  {
   "cell_type": "code",
   "execution_count": 6,
   "metadata": {
    "collapsed": true
   },
   "outputs": [],
   "source": [
    "MODEL_LENGTH = 16\n",
    "HIDDEN_DIM = 2\n",
    "LATENT_DIM = 2"
   ]
  },
  {
   "cell_type": "code",
   "execution_count": 19,
   "metadata": {
    "collapsed": true
   },
   "outputs": [],
   "source": [
    "# 1 bar : 2 x subseq = 16 x 16분음표\n",
    "\n",
    "class MidiEncoder(nn.Module):\n",
    "    def __init__(self):\n",
    "        super(MidiEncoder, self).__init__()\n",
    "        self.lstm = nn.LSTM(input_size=128, hidden_size=HIDDEN_DIM, num_layers=1, batch_first=True, bidirectional=True)\n",
    "    \n",
    "    def forward(self, x):\n",
    "        out, (h, c) = self.lstm(x)\n",
    "        print(out.shape, h.shape, c.shape)\n",
    "        print(out, h, c)\n",
    "        forward_last = out[:, MODEL_LENGTH - 1, :HIDDEN_DIM]\n",
    "        backward_last = out[:, 0, HIDDEN_DIM:]\n",
    "        \n",
    "        return torch.cat([forward_last, backward_last], dim=1)"
   ]
  },
  {
   "cell_type": "code",
   "execution_count": 8,
   "metadata": {
    "collapsed": true
   },
   "outputs": [],
   "source": [
    "\n",
    "class MidiParameterize(nn.Module):\n",
    "    def __init__(self):\n",
    "        super(MidiParameterize, self).__init__()\n",
    "        self.linear_mu = nn.Linear(HIDDEN_DIM*2, LATENT_DIM)\n",
    "        self.linear_sigma = nn.Linear(HIDDEN_DIM*2, LATENT_DIM)\n",
    "        self.softplus = nn.Softplus()\n",
    "    \n",
    "    def forward(self, x):\n",
    "        mu = self.linear_mu(x)\n",
    "        sigma = self.softplus(self.linear_sigma(x))\n",
    "        return mu, sigma"
   ]
  },
  {
   "cell_type": "code",
   "execution_count": 20,
   "metadata": {
    "collapsed": true
   },
   "outputs": [],
   "source": [
    "enc = MidiEncoder()"
   ]
  },
  {
   "cell_type": "code",
   "execution_count": 10,
   "metadata": {
    "collapsed": true
   },
   "outputs": [],
   "source": [
    "midi_list = glob.glob(\"../midi1/*.mid\")"
   ]
  },
  {
   "cell_type": "code",
   "execution_count": 11,
   "metadata": {
    "collapsed": true
   },
   "outputs": [],
   "source": [
    "transform = transforms.Compose([\n",
    "    midi_transform.get_piano_roll,\n",
    "    midi_transform.random_crop_midi,\n",
    "    torch.FloatTensor,\n",
    "])"
   ]
  },
  {
   "cell_type": "code",
   "execution_count": 12,
   "metadata": {
    "collapsed": true
   },
   "outputs": [],
   "source": [
    "midi_dset = midi_dataset.MidiDataset(midi_list, transform=transform)"
   ]
  },
  {
   "cell_type": "code",
   "execution_count": 13,
   "metadata": {
    "collapsed": true
   },
   "outputs": [],
   "source": [
    "sample = midi_dset[0]"
   ]
  },
  {
   "cell_type": "code",
   "execution_count": 14,
   "metadata": {
    "collapsed": true
   },
   "outputs": [],
   "source": [
    "sample = sample.unsqueeze(0)"
   ]
  },
  {
   "cell_type": "code",
   "execution_count": 15,
   "metadata": {
    "collapsed": true
   },
   "outputs": [],
   "source": [
    "sample = sample.permute(0,2,1)"
   ]
  },
  {
   "cell_type": "code",
   "execution_count": 16,
   "metadata": {},
   "outputs": [
    {
     "data": {
      "text/plain": [
       "torch.Size([1, 16, 128])"
      ]
     },
     "execution_count": 16,
     "metadata": {},
     "output_type": "execute_result"
    }
   ],
   "source": [
    "sample.shape"
   ]
  },
  {
   "cell_type": "code",
   "execution_count": 21,
   "metadata": {},
   "outputs": [
    {
     "name": "stdout",
     "output_type": "stream",
     "text": [
      "torch.Size([1, 16, 4]) torch.Size([2, 1, 2]) torch.Size([2, 1, 2])\n",
      "tensor([[[ 2.6518e-12,  7.6087e-01,  1.0000e+00, -4.0833e-28],\n",
      "         [ 3.8277e-12,  9.6381e-01,  1.0000e+00, -4.0833e-28],\n",
      "         [ 4.2214e-12,  9.9501e-01,  1.0000e+00, -4.0833e-28],\n",
      "         [ 4.2854e-12,  9.9932e-01,  1.0000e+00, -4.0833e-28],\n",
      "         [ 4.2943e-12,  9.9991e-01,  1.0000e+00, -4.0833e-28],\n",
      "         [ 4.2955e-12,  9.9999e-01,  1.0000e+00, -4.0833e-28],\n",
      "         [ 4.2957e-12,  1.0000e+00,  1.0000e+00, -4.0833e-28],\n",
      "         [ 4.2957e-12,  1.0000e+00,  1.0000e+00, -4.0833e-28],\n",
      "         [ 4.2957e-12,  1.0000e+00,  1.0000e+00, -4.0833e-28],\n",
      "         [ 4.2957e-12,  1.0000e+00,  1.0000e+00, -4.0833e-28],\n",
      "         [ 4.2957e-12,  1.0000e+00,  9.9999e-01, -4.0835e-28],\n",
      "         [ 4.2957e-12,  1.0000e+00,  9.9991e-01, -4.0844e-28],\n",
      "         [ 4.2957e-12,  1.0000e+00,  9.9933e-01, -4.0914e-28],\n",
      "         [ 4.2957e-12,  1.0000e+00,  9.9505e-01, -4.1421e-28],\n",
      "         [ 4.2957e-12,  1.0000e+00,  9.6403e-01, -4.4718e-28],\n",
      "         [ 4.2957e-12,  1.0000e+00,  7.6159e-01, -5.3092e-28]]]) tensor([[[ 4.2957e-12,  1.0000e+00]],\n",
      "\n",
      "        [[ 1.0000e+00, -4.0833e-28]]]) tensor([[[ 4.2957e-12,  1.5979e+01]],\n",
      "\n",
      "        [[ 1.6000e+01, -1.6000e+01]]])\n"
     ]
    },
    {
     "data": {
      "text/plain": [
       "torch.Size([1, 4])"
      ]
     },
     "execution_count": 21,
     "metadata": {},
     "output_type": "execute_result"
    }
   ],
   "source": [
    "out = enc(sample)\n",
    "out.shape"
   ]
  },
  {
   "cell_type": "code",
   "execution_count": 18,
   "metadata": {},
   "outputs": [
    {
     "data": {
      "text/plain": [
       "tensor([[ 7.1888e-01,  4.0038e-06, -7.6087e-01, -9.9999e-01]])"
      ]
     },
     "execution_count": 18,
     "metadata": {},
     "output_type": "execute_result"
    }
   ],
   "source": [
    "out"
   ]
  },
  {
   "cell_type": "code",
   "execution_count": 22,
   "metadata": {
    "collapsed": true
   },
   "outputs": [],
   "source": [
    "param = MidiParameterize()"
   ]
  },
  {
   "cell_type": "code",
   "execution_count": 23,
   "metadata": {},
   "outputs": [
    {
     "data": {
      "text/plain": [
       "(tensor([[-0.0343,  0.2937]]), tensor([[ 0.3499,  0.4801]]))"
      ]
     },
     "execution_count": 23,
     "metadata": {},
     "output_type": "execute_result"
    }
   ],
   "source": [
    "param(out)"
   ]
  },
  {
   "cell_type": "code",
   "execution_count": null,
   "metadata": {
    "collapsed": true
   },
   "outputs": [],
   "source": []
  }
 ],
 "metadata": {
  "kernelspec": {
   "display_name": "Python [conda env:pt4_2]",
   "language": "python",
   "name": "conda-env-pt4_2-py"
  },
  "language_info": {
   "codemirror_mode": {
    "name": "ipython",
    "version": 3
   },
   "file_extension": ".py",
   "mimetype": "text/x-python",
   "name": "python",
   "nbconvert_exporter": "python",
   "pygments_lexer": "ipython3",
   "version": "3.6.5"
  }
 },
 "nbformat": 4,
 "nbformat_minor": 2
}
